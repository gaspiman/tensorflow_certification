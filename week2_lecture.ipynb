{
  "nbformat": 4,
  "nbformat_minor": 0,
  "metadata": {
    "colab": {
      "name": "Week2_lecture.ipynb",
      "provenance": [],
      "authorship_tag": "ABX9TyN7k9aZU8VmiR9V6W0edLwr",
      "include_colab_link": true
    },
    "kernelspec": {
      "name": "python3",
      "display_name": "Python 3"
    }
  },
  "cells": [
    {
      "cell_type": "markdown",
      "metadata": {
        "id": "view-in-github",
        "colab_type": "text"
      },
      "source": [
        "<a href=\"https://colab.research.google.com/github/gaspiman/tensorflow_certification/blob/master/week2_lecture.ipynb\" target=\"_parent\"><img src=\"https://colab.research.google.com/assets/colab-badge.svg\" alt=\"Open In Colab\"/></a>"
      ]
    },
    {
      "cell_type": "code",
      "metadata": {
        "id": "97xAXnpcLPSM",
        "colab_type": "code",
        "colab": {}
      },
      "source": [
        "import tensorflow as tf\n",
        "import numpy as np\n",
        "from tensorflow import keras"
      ],
      "execution_count": 1,
      "outputs": []
    },
    {
      "cell_type": "code",
      "metadata": {
        "id": "QEZofvd5Nvwf",
        "colab_type": "code",
        "colab": {}
      },
      "source": [
        "np.set_printoptions(linewidth=200)"
      ],
      "execution_count": 17,
      "outputs": []
    },
    {
      "cell_type": "code",
      "metadata": {
        "id": "gQIfll1QLm0g",
        "colab_type": "code",
        "colab": {}
      },
      "source": [
        "def build_model():\n",
        "  model = keras.Sequential([\n",
        "      keras.layers.Flatten(),\n",
        "      keras.layers.Dense(512, activation=tf.nn.relu),\n",
        "      keras.layers.Dense(10, activation=tf.nn.softmax)\n",
        "  ]) \n",
        "  model.compile(\n",
        "      optimizer=tf.optimizers.Adam(),\n",
        "      loss = tf.losses.sparse_categorical_crossentropy,\n",
        "      metrics = ['accuracy']\n",
        "  )\n",
        "  return model"
      ],
      "execution_count": 33,
      "outputs": []
    },
    {
      "cell_type": "code",
      "metadata": {
        "id": "vj36ihT0MtoD",
        "colab_type": "code",
        "colab": {}
      },
      "source": [
        "mnist = keras.datasets.fashion_mnist"
      ],
      "execution_count": 29,
      "outputs": []
    },
    {
      "cell_type": "code",
      "metadata": {
        "id": "N_0YTsMMUeX8",
        "colab_type": "code",
        "colab": {}
      },
      "source": [
        "class myCallback(tf.keras.callbacks.Callback):\n",
        "  def on_epoch_end(self, epoch, logs={}):\n",
        "    print(\"Logs:\",logs)\n",
        "    if (logs.get('loss')<0.4):\n",
        "      print(\"\\nReached 60% accuracy so cancelling training!\")\n",
        "      self.model.stop_training = True"
      ],
      "execution_count": 41,
      "outputs": []
    },
    {
      "cell_type": "code",
      "metadata": {
        "id": "6r8U6QBiNEto",
        "colab_type": "code",
        "colab": {}
      },
      "source": [
        "(train_x, train_y), (test_x, test_y) = mnist.load_data()"
      ],
      "execution_count": 30,
      "outputs": []
    },
    {
      "cell_type": "code",
      "metadata": {
        "id": "BzXgRbZcNT5b",
        "colab_type": "code",
        "colab": {}
      },
      "source": [
        "import matplotlib.pyplot as plt"
      ],
      "execution_count": 10,
      "outputs": []
    },
    {
      "cell_type": "code",
      "metadata": {
        "id": "xHmPNm6mNnms",
        "colab_type": "code",
        "colab": {}
      },
      "source": [
        "plt.imshow(train_x[0])\n",
        "print(train_y[0])\n",
        "print(train_x[0])"
      ],
      "execution_count": null,
      "outputs": []
    },
    {
      "cell_type": "code",
      "metadata": {
        "id": "G-3GCpaoOOWS",
        "colab_type": "code",
        "colab": {}
      },
      "source": [
        "train_x = train_x/255.0\n",
        "test_x = test_x/255.0"
      ],
      "execution_count": 31,
      "outputs": []
    },
    {
      "cell_type": "code",
      "metadata": {
        "id": "XDE2_MFFOcq4",
        "colab_type": "code",
        "colab": {
          "base_uri": "https://localhost:8080/",
          "height": 170
        },
        "outputId": "bd54f57e-e998-4916-9c51-445fd25849d3"
      },
      "source": [
        "model = build_model()\n",
        "model.fit(train_x, train_y, epochs=5, callbacks=[myCallback()])"
      ],
      "execution_count": 42,
      "outputs": [
        {
          "output_type": "stream",
          "text": [
            "Epoch 1/5\n",
            "1869/1875 [============================>.] - ETA: 0s - loss: 0.4757 - accuracy: 0.8310Logs: {'loss': 0.4754616320133209, 'accuracy': 0.8309833407402039}\n",
            "1875/1875 [==============================] - 7s 4ms/step - loss: 0.4755 - accuracy: 0.8310\n",
            "Epoch 2/5\n",
            "1865/1875 [============================>.] - ETA: 0s - loss: 0.3577 - accuracy: 0.8690Logs: {'loss': 0.35737696290016174, 'accuracy': 0.8690666556358337}\n",
            "\n",
            "Reached 60% accuracy so cancelling training!\n",
            "1875/1875 [==============================] - 7s 4ms/step - loss: 0.3574 - accuracy: 0.8691\n"
          ],
          "name": "stdout"
        },
        {
          "output_type": "execute_result",
          "data": {
            "text/plain": [
              "<tensorflow.python.keras.callbacks.History at 0x7f2bee51d470>"
            ]
          },
          "metadata": {
            "tags": []
          },
          "execution_count": 42
        }
      ]
    },
    {
      "cell_type": "code",
      "metadata": {
        "id": "zx4J4F-bPNn9",
        "colab_type": "code",
        "colab": {
          "base_uri": "https://localhost:8080/",
          "height": 51
        },
        "outputId": "145b1b67-5705-4198-c936-bb9d7f979f04"
      },
      "source": [
        "model.evaluate(test_x, test_y)"
      ],
      "execution_count": 35,
      "outputs": [
        {
          "output_type": "stream",
          "text": [
            "313/313 [==============================] - 1s 2ms/step - loss: 0.3346 - accuracy: 0.8811\n"
          ],
          "name": "stdout"
        },
        {
          "output_type": "execute_result",
          "data": {
            "text/plain": [
              "[0.33462265133857727, 0.8810999989509583]"
            ]
          },
          "metadata": {
            "tags": []
          },
          "execution_count": 35
        }
      ]
    },
    {
      "cell_type": "code",
      "metadata": {
        "id": "K5UkZpD5PelH",
        "colab_type": "code",
        "colab": {
          "base_uri": "https://localhost:8080/",
          "height": 51
        },
        "outputId": "6634be56-1d78-48b0-c5ef-0eed8db74384"
      },
      "source": [
        "classifications = model.predict(test_x)\n",
        "print(classifications[0])\n",
        "print(test_y[0])"
      ],
      "execution_count": 36,
      "outputs": [
        {
          "output_type": "stream",
          "text": [
            "[3.3108929e-08 1.5818675e-09 1.6971576e-09 3.8963902e-11 8.0069334e-10 6.6398276e-04 1.1626723e-07 3.1487443e-03 9.7444421e-08 9.9618703e-01]\n",
            "9\n"
          ],
          "name": "stdout"
        }
      ]
    }
  ]
}